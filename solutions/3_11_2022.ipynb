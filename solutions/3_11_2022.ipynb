{
 "cells": [
  {
   "cell_type": "markdown",
   "id": "20b7d0b4",
   "metadata": {},
   "source": [
    "https://fivethirtyeight.com/features/can-you-score-some-basketball-tickets/?ex_cid=the-riddler"
   ]
  },
  {
   "cell_type": "markdown",
   "id": "b4cd7ea0",
   "metadata": {},
   "source": [
    "## Express\n",
    "\n",
    "Without knowing how anyone else did on the scavenger hunt, what is the highest score that guarantees you are in the top 10? (Being tied for 10th is acceptable.)\n"
   ]
  },
  {
   "cell_type": "markdown",
   "id": "7e5d3544",
   "metadata": {},
   "source": [
    "We want to define the combination of top 10 scores with the least dispersion amonst them."
   ]
  },
  {
   "cell_type": "code",
   "execution_count": 6,
   "id": "f181ff28",
   "metadata": {},
   "outputs": [],
   "source": [
    "import pandas as pd"
   ]
  },
  {
   "cell_type": "code",
   "execution_count": 7,
   "id": "62e75893",
   "metadata": {},
   "outputs": [],
   "source": [
    "# Rounds 1/2 lookup\n",
    "lookup = {\n",
    "    1:10,\n",
    "    2:9,\n",
    "    3:8,\n",
    "    4:7,\n",
    "    5:6,\n",
    "    6:5,\n",
    "    7:4,\n",
    "    8:3,\n",
    "    9:2,\n",
    "    10:1,\n",
    "}"
   ]
  },
  {
   "cell_type": "code",
   "execution_count": 8,
   "id": "ccd8da08",
   "metadata": {},
   "outputs": [],
   "source": [
    "sim_scores = []\n",
    "for game_id in range(1, 4):\n",
    "    for score_iter in range(1, 11):\n",
    "        \n",
    "        sim_scores.append([score_iter, lookup[score_iter]])\n",
    "        \n"
   ]
  },
  {
   "cell_type": "code",
   "execution_count": 9,
   "id": "62b7cec4",
   "metadata": {},
   "outputs": [
    {
     "data": {
      "text/plain": [
       "0     11\n",
       "1     11\n",
       "2     11\n",
       "3     11\n",
       "4     11\n",
       "5     11\n",
       "6     11\n",
       "7     11\n",
       "8     11\n",
       "9     11\n",
       "10    11\n",
       "11    11\n",
       "12    11\n",
       "13    11\n",
       "14    11\n",
       "15    11\n",
       "16    11\n",
       "17    11\n",
       "18    11\n",
       "19    11\n",
       "20    11\n",
       "21    11\n",
       "22    11\n",
       "23    11\n",
       "24    11\n",
       "25    11\n",
       "26    11\n",
       "27    11\n",
       "28    11\n",
       "29    11\n",
       "dtype: int64"
      ]
     },
     "execution_count": 9,
     "metadata": {},
     "output_type": "execute_result"
    }
   ],
   "source": [
    "pd.DataFrame(sim_scores).sum(axis=1)"
   ]
  },
  {
   "cell_type": "markdown",
   "id": "58b3218e",
   "metadata": {},
   "source": [
    "We have forced scenarios such that all scores for the first two rounds are now equivalently 11. One of them **has** to get a 10 for round 3 meaning that a score of 21 **guerantees** someone will be in the top 10. "
   ]
  },
  {
   "cell_type": "markdown",
   "id": "e2d00da3",
   "metadata": {},
   "source": [
    "### Solution: A score of 21 guerantees we will be in the top 10!"
   ]
  },
  {
   "cell_type": "markdown",
   "id": "42b8ce23",
   "metadata": {},
   "source": [
    "# Classic\n",
    "\n",
    "From Ed Carl comes a surprising game of dice:\n",
    "\n",
    "We’re playing a game where you have to pick four whole numbers. Then I will roll four fair dice. If any two of the dice add up to any one of the numbers you picked, then you win! Otherwise, you lose.\n",
    "\n",
    "For example, suppose you picked the numbers 2, 3, 4 and 12, and the four dice came up 1, 2, 4 and 5. Then you’d win, because two of the dice (1 and 2) add up to at least one of the numbers you picked (3).\n",
    "\n",
    "To maximize your chances of winning, which four numbers should you pick? And what are your chances of winning?"
   ]
  },
  {
   "cell_type": "code",
   "execution_count": 78,
   "id": "fe9a77ab",
   "metadata": {},
   "outputs": [],
   "source": [
    "from collections import Counter"
   ]
  },
  {
   "cell_type": "code",
   "execution_count": 80,
   "id": "99e59904",
   "metadata": {},
   "outputs": [],
   "source": [
    "from itertools import combinations_with_replacement, combinations, permutations"
   ]
  },
  {
   "cell_type": "code",
   "execution_count": 73,
   "id": "8419fa87",
   "metadata": {},
   "outputs": [],
   "source": [
    "from plotnine import *"
   ]
  },
  {
   "cell_type": "code",
   "execution_count": 16,
   "id": "eb03cb66",
   "metadata": {},
   "outputs": [],
   "source": [
    "dice_sims = list(combinations_with_replacement(range(1, 7), 4))"
   ]
  },
  {
   "cell_type": "code",
   "execution_count": 103,
   "id": "bb5f497a",
   "metadata": {},
   "outputs": [],
   "source": [
    "all_two_dice_sums = []\n",
    "for sim_iter in dice_sims:\n",
    "    sim_iter_combs = list(combinations(sim_iter, 2))\n",
    "    sim_iter_two_dice_sum = np.sum(sim_iter_combs, axis=1)\n",
    "    all_two_dice_sums.extend(sim_iter_two_dice_sum)\n",
    "   "
   ]
  },
  {
   "cell_type": "code",
   "execution_count": 104,
   "id": "7c5a69d1",
   "metadata": {},
   "outputs": [
    {
     "data": {
      "image/png": "[encoded data removed]",
      "text/plain": [
       "<Figure size 640x480 with 1 Axes>"
      ]
     },
     "metadata": {},
     "output_type": "display_data"
    },
    {
     "data": {
      "text/plain": [
       "<ggplot: (8777314559242)>"
      ]
     },
     "execution_count": 104,
     "metadata": {},
     "output_type": "execute_result"
    }
   ],
   "source": [
    "breaks = list(range(min(all_two_dice_sums), max(all_two_dice_sums) + 1))\n",
    "\n",
    "qplot(all_two_dice_sums, geom='bar') + scale_x_continuous(breaks=breaks)"
   ]
  },
  {
   "cell_type": "code",
   "execution_count": 105,
   "id": "ee204b3d",
   "metadata": {
    "scrolled": true
   },
   "outputs": [],
   "source": [
    "counts = pd.DataFrame.from_dict(dict(Counter(all_two_dice_sums)), orient='index').reset_index()\n",
    "counts.columns = ['sum', 'count']"
   ]
  },
  {
   "cell_type": "code",
   "execution_count": 106,
   "id": "f881e673",
   "metadata": {},
   "outputs": [],
   "source": [
    "counts['counts_normalized'] = counts['count'] / counts['count'].sum()"
   ]
  },
  {
   "cell_type": "code",
   "execution_count": 111,
   "id": "dd62b859",
   "metadata": {},
   "outputs": [
    {
     "data": {
      "text/plain": [
       "<AxesSubplot:xlabel='sum'>"
      ]
     },
     "execution_count": 111,
     "metadata": {},
     "output_type": "execute_result"
    },
    {
     "data": {
      "image/png": "[encoded data removed]",
      "text/plain": [
       "<Figure size 432x288 with 1 Axes>"
      ]
     },
     "metadata": {
      "needs_background": "light"
     },
     "output_type": "display_data"
    }
   ],
   "source": [
    "counts.plot(x='sum' ,y='counts_normalized', kind='bar')"
   ]
  },
  {
   "cell_type": "code",
   "execution_count": 112,
   "id": "46b3d424",
   "metadata": {},
   "outputs": [
    {
     "data": {
      "text/html": [
       "<div>\n",
       "<style scoped>\n",
       "    .dataframe tbody tr th:only-of-type {\n",
       "        vertical-align: middle;\n",
       "    }\n",
       "\n",
       "    .dataframe tbody tr th {\n",
       "        vertical-align: top;\n",
       "    }\n",
       "\n",
       "    .dataframe thead th {\n",
       "        text-align: right;\n",
       "    }\n",
       "</style>\n",
       "<table border=\"1\" class=\"dataframe\">\n",
       "  <thead>\n",
       "    <tr style=\"text-align: right;\">\n",
       "      <th></th>\n",
       "      <th>sum</th>\n",
       "      <th>count</th>\n",
       "      <th>counts_normalized</th>\n",
       "    </tr>\n",
       "  </thead>\n",
       "  <tbody>\n",
       "    <tr>\n",
       "      <th>0</th>\n",
       "      <td>2</td>\n",
       "      <td>36</td>\n",
       "      <td>0.047619</td>\n",
       "    </tr>\n",
       "    <tr>\n",
       "      <th>1</th>\n",
       "      <td>3</td>\n",
       "      <td>36</td>\n",
       "      <td>0.047619</td>\n",
       "    </tr>\n",
       "    <tr>\n",
       "      <th>2</th>\n",
       "      <td>4</td>\n",
       "      <td>72</td>\n",
       "      <td>0.095238</td>\n",
       "    </tr>\n",
       "    <tr>\n",
       "      <th>3</th>\n",
       "      <td>5</td>\n",
       "      <td>72</td>\n",
       "      <td>0.095238</td>\n",
       "    </tr>\n",
       "    <tr>\n",
       "      <th>4</th>\n",
       "      <td>6</td>\n",
       "      <td>108</td>\n",
       "      <td>0.142857</td>\n",
       "    </tr>\n",
       "    <tr>\n",
       "      <th>5</th>\n",
       "      <td>7</td>\n",
       "      <td>108</td>\n",
       "      <td>0.142857</td>\n",
       "    </tr>\n",
       "    <tr>\n",
       "      <th>6</th>\n",
       "      <td>8</td>\n",
       "      <td>108</td>\n",
       "      <td>0.142857</td>\n",
       "    </tr>\n",
       "    <tr>\n",
       "      <th>7</th>\n",
       "      <td>9</td>\n",
       "      <td>72</td>\n",
       "      <td>0.095238</td>\n",
       "    </tr>\n",
       "    <tr>\n",
       "      <th>8</th>\n",
       "      <td>10</td>\n",
       "      <td>72</td>\n",
       "      <td>0.095238</td>\n",
       "    </tr>\n",
       "    <tr>\n",
       "      <th>9</th>\n",
       "      <td>11</td>\n",
       "      <td>36</td>\n",
       "      <td>0.047619</td>\n",
       "    </tr>\n",
       "    <tr>\n",
       "      <th>10</th>\n",
       "      <td>12</td>\n",
       "      <td>36</td>\n",
       "      <td>0.047619</td>\n",
       "    </tr>\n",
       "  </tbody>\n",
       "</table>\n",
       "</div>"
      ],
      "text/plain": [
       "    sum  count  counts_normalized\n",
       "0     2     36           0.047619\n",
       "1     3     36           0.047619\n",
       "2     4     72           0.095238\n",
       "3     5     72           0.095238\n",
       "4     6    108           0.142857\n",
       "5     7    108           0.142857\n",
       "6     8    108           0.142857\n",
       "7     9     72           0.095238\n",
       "8    10     72           0.095238\n",
       "9    11     36           0.047619\n",
       "10   12     36           0.047619"
      ]
     },
     "execution_count": 112,
     "metadata": {},
     "output_type": "execute_result"
    }
   ],
   "source": [
    "counts"
   ]
  },
  {
   "cell_type": "code",
   "execution_count": 114,
   "id": "264b2896",
   "metadata": {},
   "outputs": [
    {
     "data": {
      "text/plain": [
       "0.5238095238095237"
      ]
     },
     "execution_count": 114,
     "metadata": {},
     "output_type": "execute_result"
    }
   ],
   "source": [
    "prob_of_winner = counts[counts['sum'].isin([5, 6, 7, 8])].counts_normalized.sum()\n",
    "prob_of_winner"
   ]
  },
  {
   "cell_type": "markdown",
   "id": "7eda794a",
   "metadata": {},
   "source": [
    "## Answer\n",
    "We should select 6, 7, and 8 as our numbers and one of 4, 5, 9, or 10 as our 4th number\n",
    "\n",
    "Our chance of winning is 52.4%"
   ]
  }
 ],
 "metadata": {
  "kernelspec": {
   "display_name": "Python 3 (ipykernel)",
   "language": "python",
   "name": "python3"
  },
  "language_info": {
   "codemirror_mode": {
    "name": "ipython",
    "version": 3
   },
   "file_extension": ".py",
   "mimetype": "text/x-python",
   "name": "python",
   "nbconvert_exporter": "python",
   "pygments_lexer": "ipython3",
   "version": "3.9.7"
  }
 },
 "nbformat": 4,
 "nbformat_minor": 5
}
