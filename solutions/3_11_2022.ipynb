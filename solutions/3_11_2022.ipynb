{
 "cells": [
  {
   "cell_type": "markdown",
   "id": "20b7d0b4",
   "metadata": {},
   "source": [
    "https://fivethirtyeight.com/features/can-you-score-some-basketball-tickets/?ex_cid=the-riddler"
   ]
  },
  {
   "cell_type": "markdown",
   "id": "b4cd7ea0",
   "metadata": {},
   "source": [
    "## Express\n",
    "\n",
    "Without knowing how anyone else did on the scavenger hunt, what is the highest score that guarantees you are in the top 10? (Being tied for 10th is acceptable.)\n"
   ]
  },
  {
   "cell_type": "markdown",
   "id": "7e5d3544",
   "metadata": {},
   "source": [
    "We want to define the combination of top 10 scores with the least dispersion amonst them."
   ]
  },
  {
   "cell_type": "code",
   "execution_count": 131,
   "id": "62e75893",
   "metadata": {},
   "outputs": [],
   "source": [
    "# Rounds 1/2 lookup\n",
    "lookup = {\n",
    "    1:10,\n",
    "    2:9,\n",
    "    3:8,\n",
    "    4:7,\n",
    "    5:6,\n",
    "    6:5,\n",
    "    7:4,\n",
    "    8:3,\n",
    "    9:2,\n",
    "    10:1,\n",
    "}"
   ]
  },
  {
   "cell_type": "code",
   "execution_count": 132,
   "id": "ccd8da08",
   "metadata": {},
   "outputs": [],
   "source": [
    "sim_scores = []\n",
    "for game_id in range(1, 4):\n",
    "    for score_iter in range(1, 11):\n",
    "        \n",
    "        sim_scores.append([score_iter, lookup[score_iter]])\n",
    "        \n"
   ]
  },
  {
   "cell_type": "code",
   "execution_count": 135,
   "id": "62b7cec4",
   "metadata": {},
   "outputs": [
    {
     "data": {
      "text/plain": [
       "0     11\n",
       "1     11\n",
       "2     11\n",
       "3     11\n",
       "4     11\n",
       "5     11\n",
       "6     11\n",
       "7     11\n",
       "8     11\n",
       "9     11\n",
       "10    11\n",
       "11    11\n",
       "12    11\n",
       "13    11\n",
       "14    11\n",
       "15    11\n",
       "16    11\n",
       "17    11\n",
       "18    11\n",
       "19    11\n",
       "20    11\n",
       "21    11\n",
       "22    11\n",
       "23    11\n",
       "24    11\n",
       "25    11\n",
       "26    11\n",
       "27    11\n",
       "28    11\n",
       "29    11\n",
       "dtype: int64"
      ]
     },
     "execution_count": 135,
     "metadata": {},
     "output_type": "execute_result"
    }
   ],
   "source": [
    "pd.DataFrame(sim_scores).sum(axis=1)"
   ]
  },
  {
   "cell_type": "markdown",
   "id": "58b3218e",
   "metadata": {},
   "source": [
    "We have forced scenarios such that all scores for the first two rounds are now equivalently 11. One of them **has** to get a 10 for round 3 meaning that a score of 21 **guerantees** someone will be in the top 10. "
   ]
  },
  {
   "cell_type": "markdown",
   "id": "e2d00da3",
   "metadata": {},
   "source": [
    "### Solution: A score of 21 guerantees we will be in the top 10!"
   ]
  },
  {
   "cell_type": "code",
   "execution_count": null,
   "id": "b5accf6a",
   "metadata": {},
   "outputs": [],
   "source": []
  },
  {
   "cell_type": "code",
   "execution_count": null,
   "id": "bb5f497a",
   "metadata": {},
   "outputs": [],
   "source": []
  }
 ],
 "metadata": {
  "kernelspec": {
   "display_name": "Python 3 (ipykernel)",
   "language": "python",
   "name": "python3"
  },
  "language_info": {
   "codemirror_mode": {
    "name": "ipython",
    "version": 3
   },
   "file_extension": ".py",
   "mimetype": "text/x-python",
   "name": "python",
   "nbconvert_exporter": "python",
   "pygments_lexer": "ipython3",
   "version": "3.9.7"
  }
 },
 "nbformat": 4,
 "nbformat_minor": 5
}
